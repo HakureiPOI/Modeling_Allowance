{
  "nbformat": 4,
  "nbformat_minor": 0,
  "metadata": {
    "colab": {
      "provenance": [],
      "authorship_tag": "ABX9TyNoRm6lyDixeelCo9nJAZya",
      "include_colab_link": true
    },
    "kernelspec": {
      "name": "python3",
      "display_name": "Python 3"
    },
    "language_info": {
      "name": "python"
    }
  },
  "cells": [
    {
      "cell_type": "markdown",
      "metadata": {
        "id": "view-in-github",
        "colab_type": "text"
      },
      "source": [
        "<a href=\"https://colab.research.google.com/github/HakureiPOI/Modeling_Allowance/blob/main/Gravity.ipynb\" target=\"_parent\"><img src=\"https://colab.research.google.com/assets/colab-badge.svg\" alt=\"Open In Colab\"/></a>"
      ]
    },
    {
      "cell_type": "code",
      "source": [
        "import numpy as np\n",
        "import matplotlib.pyplot as plt"
      ],
      "metadata": {
        "id": "vMkH4iXTiUNS"
      },
      "execution_count": null,
      "outputs": []
    },
    {
      "cell_type": "code",
      "source": [
        "!mkdir -p logs"
      ],
      "metadata": {
        "id": "I_ddgeyWi3Z3"
      },
      "execution_count": null,
      "outputs": []
    },
    {
      "cell_type": "code",
      "execution_count": null,
      "metadata": {
        "id": "aSQZOdJcf7cW"
      },
      "outputs": [],
      "source": [
        "# 待优化的损失函数\n",
        "# args : 未知数列表\n",
        "def cost_function(args):\n",
        "    # 这里以一个经典的三维凸函数为例\n",
        "    # f(x, y, z) = x^2 + y^2 + z^2 + 2xy + 2yz + 2zx\n",
        "    x, y, z = args\n",
        "    return x**2 + y**2 + z**2 + 2*x*y + 2*y*z + 2*z*x"
      ]
    },
    {
      "cell_type": "code",
      "source": [
        "class Gravity():\n",
        "    def __init__(self):\n",
        "        self.maximize = True        # 设定优化方向是最大还是最小\n",
        "\n",
        "    def set_direction(self, maximize = True):\n",
        "        self.maximize = maximize\n",
        "\n",
        "    def __cost_function(self, args):\n",
        "        if len(args) != self.dimension:\n",
        "            raise ValueError(\"args length must be equal to dimension\")\n",
        "        if self.maximize:\n",
        "            cost = cost_function(args)\n",
        "        else:\n",
        "            cost = -cost_function(args)\n",
        "\n",
        "        return 1 / (1 + np.exp(-cost))      # 利用 sigmoid 函数将\n",
        "\n",
        "\n",
        "    def init_population(self, population_size, dimension):\n",
        "        self.dimension = dimension\n",
        "        self.population_size = population_size\n",
        "        self.population = np.random.rand(population_size, dimension)\n",
        "\n",
        "        return self.population\n",
        "\n",
        "    def __calculate_fitness(self, population):\n",
        "        self.fitness = np.zeros(self.population_size)\n",
        "        for i in range(self.population_size):\n",
        "            self.fitness[i] = self.__cost_function(population[i])\n",
        "\n",
        "    def __update_population(self, lr=1e-8):\n",
        "        self.__calculate_fitness(self.population)\n",
        "        update_matrix = np.zeros((self.population_size, self.dimension))\n",
        "\n",
        "        for i in range(self.population_size):\n",
        "            for j in range(i, self.population_size):\n",
        "                distance = np.linalg.norm(self.population[i] - self.population[j]) ** 2\n",
        "                if abs(distance) < 1e-5:\n",
        "                    continue\n",
        "\n",
        "                direction = self.population[i] - self.population[j]\n",
        "                direction /= np.linalg.norm(direction)\n",
        "\n",
        "                update_matrix[i] -= direction * self.fitness[j] / distance\n",
        "                update_matrix[j] += direction * self.fitness[i] / distance\n",
        "\n",
        "        self.population += lr * update_matrix\n",
        "\n",
        "    def train(self):\n",
        "        self.train\n"
      ],
      "metadata": {
        "id": "vzs4sT_Xhb2o"
      },
      "execution_count": null,
      "outputs": []
    }
  ]
}