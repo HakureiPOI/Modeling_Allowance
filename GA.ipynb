{
  "nbformat": 4,
  "nbformat_minor": 0,
  "metadata": {
    "colab": {
      "provenance": [],
      "authorship_tag": "ABX9TyOyujVAJcS1qNXvjpcd8eDl",
      "include_colab_link": true
    },
    "kernelspec": {
      "name": "python3",
      "display_name": "Python 3"
    },
    "language_info": {
      "name": "python"
    }
  },
  "cells": [
    {
      "cell_type": "markdown",
      "metadata": {
        "id": "view-in-github",
        "colab_type": "text"
      },
      "source": [
        "<a href=\"https://colab.research.google.com/github/HakureiPOI/Modeling_Allowance/blob/main/GA.ipynb\" target=\"_parent\"><img src=\"https://colab.research.google.com/assets/colab-badge.svg\" alt=\"Open In Colab\"/></a>"
      ]
    },
    {
      "cell_type": "code",
      "source": [
        "import numpy as np\n",
        "import matplotlib.pyplot as plt\n",
        "import seaborn as sns"
      ],
      "metadata": {
        "id": "JJ4dTRKt28TJ"
      },
      "execution_count": 1,
      "outputs": []
    },
    {
      "cell_type": "code",
      "source": [
        "class GeneticAlgorithm():\n",
        "    def __init__(self, obj_function, dim, bounds, pop_size=128, max_iter=200, crossover_rate=0.8, mutation_rate=0.1, minimize=True):\n",
        "        \"\"\"初始化遗传算法\"\"\"\n",
        "        self.obj_function = obj_function\n",
        "        self.dim = dim\n",
        "        self.bounds = bounds\n",
        "        self.pop_size = pop_size\n",
        "        self.max_iter = max_iter\n",
        "        self.crossover_rate = crossover_rate\n",
        "        self.mutation_rate = mutation_rate\n",
        "        self.minimize = minimize\n",
        "\n",
        "        self.population = np.random.uniform(0, 1, (pop_size, dim))\n",
        "        self.best_individual = None\n",
        "        self.best_score = float('inf') if minimize else float('-inf')\n",
        "        self.history = []\n",
        "\n",
        "    def _evaluate_fitness(self, population):\n",
        "        \"\"\"评估种群中每个个体的适应度\"\"\"\n",
        "        original_positions = population * (np.array([b[1] for b in self.bounds]) - np.array([b[0] for b in self.bounds])) + np.array([b[0] for b in self.bounds])\n",
        "        fitness = np.array([self.obj_function(pos) for pos in original_positions])\n",
        "        return fitness if self.minimize else -fitness\n",
        "\n",
        "    def _select_parents(self, fitness):\n",
        "        \"\"\"基于轮盘赌选择父代\"\"\"\n",
        "        probabilities = fitness / fitness.sum()\n",
        "        indices = np.random.choice(np.arange(self.pop_size), size=self.pop_size, p=probabilities)\n",
        "        return self.population[indices]\n",
        "\n",
        "    def _crossover(self, parents):\n",
        "        \"\"\"多点交叉操作\"\"\"\n",
        "        offspring = parents.copy()\n",
        "        for i in range(0, self.pop_size, 2):\n",
        "            if np.random.rand() < self.crossover_rate:\n",
        "                points = np.sort(np.random.choice(range(1, self.dim), size=2, replace=False))\n",
        "                offspring[i, points[0]:points[1]], offspring[i + 1, points[0]:points[1]] = \\\n",
        "                    offspring[i + 1, points[0]:points[1]], offspring[i, points[0]:points[1]]\n",
        "        return offspring\n",
        "\n",
        "    def _mutate(self, offspring):\n",
        "        \"\"\"执行变异操作\"\"\"\n",
        "        for i in range(self.pop_size):\n",
        "            for j in range(self.dim):\n",
        "                if np.random.rand() < self.mutation_rate:\n",
        "                    offspring[i, j] += np.random.uniform(-0.1, 0.1)\n",
        "                    offspring[i, j] = np.clip(offspring[i, j], 0, 1)\n",
        "        return offspring\n",
        "\n",
        "    def optimize(self, early_stopping_rounds=10, tolerance=1e-6, elite_size=1):\n",
        "        \"\"\"运行优化过程，支持提前停止和精英保留\"\"\"\n",
        "        no_improve_counter = 0\n",
        "\n",
        "        for iteration in range(self.max_iter):\n",
        "            fitness = self._evaluate_fitness(self.population)\n",
        "            sorted_indices = np.argsort(fitness) if self.minimize else np.argsort(-fitness)\n",
        "\n",
        "            # 更新全局最优解\n",
        "            best_idx = sorted_indices[0]\n",
        "            if (self.minimize and fitness[best_idx] < self.best_score) or (not self.minimize and fitness[best_idx] > self.best_score):\n",
        "                self.best_score = fitness[best_idx]\n",
        "                self.best_individual = self.population[best_idx].copy()\n",
        "                no_improve_counter = 0  # 重置计数器\n",
        "            else:\n",
        "                no_improve_counter += 1\n",
        "\n",
        "            self.history.append(self.best_score)\n",
        "\n",
        "            # 提前停止逻辑\n",
        "            if no_improve_counter >= early_stopping_rounds:\n",
        "                print(f\"优化在第 {iteration + 1} 代提前停止，当前最优适应度: {self.best_score}\")\n",
        "                break\n",
        "\n",
        "            # 精英保留\n",
        "            elites = self.population[sorted_indices[:elite_size]]\n",
        "\n",
        "            # 选择、交叉、变异\n",
        "            parents = self._select_parents(1 / (1 + fitness))  # 最小化问题适配\n",
        "            offspring = self._crossover(parents)\n",
        "            offspring = self._mutate(offspring)\n",
        "\n",
        "            # 替换种群\n",
        "            self.population = np.vstack((elites, offspring[:-elite_size]))\n",
        "\n",
        "            print(f\"第 {iteration + 1}/{self.max_iter} 代, 当前最优适应度: {self.best_score}\")\n",
        "\n",
        "        original_best = self.best_individual * (np.array([b[1] for b in self.bounds]) - np.array([b[0] for b in self.bounds])) + np.array([b[0] for b in self.bounds])\n",
        "        return original_best, self.best_score\n",
        "\n",
        "    def plot_optimization_history(self):\n",
        "        sns.set(style=\"whitegrid\")\n",
        "        plt.figure(figsize=(10, 6))\n",
        "        plt.plot(self.history, label=\"Best Fitness\", color=\"b\")\n",
        "        plt.xlabel(\"Iteration\")\n",
        "        plt.ylabel(\"Best Fitness\")\n",
        "        plt.title(\"Optimization History\")\n",
        "        plt.legend()\n",
        "        plt.show()"
      ],
      "metadata": {
        "id": "g210Iei9vmBj"
      },
      "execution_count": 2,
      "outputs": []
    },
    {
      "cell_type": "code",
      "source": [
        "def complex_function(x):\n",
        "    # x 是目标函数的变量列表\n",
        "    return sum((1 - x[:-1])**2 + 100 * (x[1:] - x[:-1]**2)**2)"
      ],
      "metadata": {
        "id": "Hr4Kdbka2_oO"
      },
      "execution_count": 3,
      "outputs": []
    },
    {
      "cell_type": "code",
      "source": [
        "dim = 10\n",
        "bounds = [(-5, 5)] * dim  # 每个维度不同的边界\n",
        "ga = GeneticAlgorithm(obj_function=complex_function, dim=dim, bounds=bounds)"
      ],
      "metadata": {
        "id": "sARMeHIJ3Ce3"
      },
      "execution_count": 4,
      "outputs": []
    },
    {
      "cell_type": "code",
      "source": [
        "best_position, best_score = ga.optimize()"
      ],
      "metadata": {
        "id": "DhcASSITQSJL",
        "outputId": "2d9ac3fb-d571-49be-d16a-953ddda62a0e",
        "colab": {
          "base_uri": "https://localhost:8080/"
        }
      },
      "execution_count": 5,
      "outputs": [
        {
          "output_type": "stream",
          "name": "stdout",
          "text": [
            "第 1/200 代, 当前最优适应度: 28562.611517007124\n",
            "第 2/200 代, 当前最优适应度: 18508.928422914025\n",
            "第 3/200 代, 当前最优适应度: 18102.256232238746\n",
            "第 4/200 代, 当前最优适应度: 9317.570326537705\n",
            "第 5/200 代, 当前最优适应度: 4755.909962008377\n",
            "第 6/200 代, 当前最优适应度: 3946.4223247179125\n",
            "第 7/200 代, 当前最优适应度: 2660.4485608282985\n",
            "第 8/200 代, 当前最优适应度: 2466.4319787609274\n",
            "第 9/200 代, 当前最优适应度: 1007.0304655524521\n",
            "第 10/200 代, 当前最优适应度: 948.7825358370787\n",
            "第 11/200 代, 当前最优适应度: 948.7825358370787\n",
            "第 12/200 代, 当前最优适应度: 914.964303684673\n",
            "第 13/200 代, 当前最优适应度: 562.0896165821354\n",
            "第 14/200 代, 当前最优适应度: 531.0093614530267\n",
            "第 15/200 代, 当前最优适应度: 407.26244700960035\n",
            "第 16/200 代, 当前最优适应度: 403.35643917153703\n",
            "第 17/200 代, 当前最优适应度: 403.35643917153703\n",
            "第 18/200 代, 当前最优适应度: 350.5398726039837\n",
            "第 19/200 代, 当前最优适应度: 234.45037647186524\n",
            "第 20/200 代, 当前最优适应度: 204.9574321132094\n",
            "第 21/200 代, 当前最优适应度: 204.9574321132094\n",
            "第 22/200 代, 当前最优适应度: 155.93737229400284\n",
            "第 23/200 代, 当前最优适应度: 126.97414769378541\n",
            "第 24/200 代, 当前最优适应度: 126.97414769378541\n",
            "第 25/200 代, 当前最优适应度: 116.81871533734571\n",
            "第 26/200 代, 当前最优适应度: 98.51202852423637\n",
            "第 27/200 代, 当前最优适应度: 98.51202852423637\n",
            "第 28/200 代, 当前最优适应度: 96.48653421872105\n",
            "第 29/200 代, 当前最优适应度: 94.10766372265617\n",
            "第 30/200 代, 当前最优适应度: 72.39071430401296\n",
            "第 31/200 代, 当前最优适应度: 54.01230303430405\n",
            "第 32/200 代, 当前最优适应度: 54.01230303430405\n",
            "第 33/200 代, 当前最优适应度: 54.01230303430405\n",
            "第 34/200 代, 当前最优适应度: 50.18092106012507\n",
            "第 35/200 代, 当前最优适应度: 42.768669606562554\n",
            "第 36/200 代, 当前最优适应度: 42.768669606562554\n",
            "第 37/200 代, 当前最优适应度: 42.768669606562554\n",
            "第 38/200 代, 当前最优适应度: 35.35957127105339\n",
            "第 39/200 代, 当前最优适应度: 25.334732662240807\n",
            "第 40/200 代, 当前最优适应度: 25.334732662240807\n",
            "第 41/200 代, 当前最优适应度: 12.989143289499964\n",
            "第 42/200 代, 当前最优适应度: 12.989143289499964\n",
            "第 43/200 代, 当前最优适应度: 12.71998707673253\n",
            "第 44/200 代, 当前最优适应度: 12.71998707673253\n",
            "第 45/200 代, 当前最优适应度: 12.71998707673253\n",
            "第 46/200 代, 当前最优适应度: 12.086969371044285\n",
            "第 47/200 代, 当前最优适应度: 11.987371061280706\n",
            "第 48/200 代, 当前最优适应度: 11.558382149291432\n",
            "第 49/200 代, 当前最优适应度: 10.772939683917453\n",
            "第 50/200 代, 当前最优适应度: 10.772939683917453\n",
            "第 51/200 代, 当前最优适应度: 10.67797646167906\n",
            "第 52/200 代, 当前最优适应度: 10.67797646167906\n",
            "第 53/200 代, 当前最优适应度: 10.67797646167906\n",
            "第 54/200 代, 当前最优适应度: 10.67797646167906\n",
            "第 55/200 代, 当前最优适应度: 10.67797646167906\n",
            "第 56/200 代, 当前最优适应度: 10.576634060598575\n",
            "第 57/200 代, 当前最优适应度: 10.576634060598575\n",
            "第 58/200 代, 当前最优适应度: 10.576634060598575\n",
            "第 59/200 代, 当前最优适应度: 10.576634060598575\n",
            "第 60/200 代, 当前最优适应度: 10.31353607172713\n",
            "第 61/200 代, 当前最优适应度: 10.31353607172713\n",
            "第 62/200 代, 当前最优适应度: 10.31353607172713\n",
            "第 63/200 代, 当前最优适应度: 10.31353607172713\n",
            "第 64/200 代, 当前最优适应度: 10.31353607172713\n",
            "第 65/200 代, 当前最优适应度: 10.31353607172713\n",
            "第 66/200 代, 当前最优适应度: 10.31353607172713\n",
            "第 67/200 代, 当前最优适应度: 10.31353607172713\n",
            "第 68/200 代, 当前最优适应度: 10.31353607172713\n",
            "第 69/200 代, 当前最优适应度: 10.31353607172713\n",
            "第 70/200 代, 当前最优适应度: 10.048021630963776\n",
            "第 71/200 代, 当前最优适应度: 10.048021630963776\n",
            "第 72/200 代, 当前最优适应度: 10.048021630963776\n",
            "第 73/200 代, 当前最优适应度: 10.048021630963776\n",
            "第 74/200 代, 当前最优适应度: 9.908926865443078\n",
            "第 75/200 代, 当前最优适应度: 9.908926865443078\n",
            "第 76/200 代, 当前最优适应度: 9.908926865443078\n",
            "第 77/200 代, 当前最优适应度: 9.908926865443078\n",
            "第 78/200 代, 当前最优适应度: 9.908926865443078\n",
            "第 79/200 代, 当前最优适应度: 9.908926865443078\n",
            "第 80/200 代, 当前最优适应度: 9.908926865443078\n",
            "第 81/200 代, 当前最优适应度: 9.731380228737626\n",
            "第 82/200 代, 当前最优适应度: 9.731380228737626\n",
            "第 83/200 代, 当前最优适应度: 9.731380228737626\n",
            "第 84/200 代, 当前最优适应度: 9.731380228737626\n",
            "第 85/200 代, 当前最优适应度: 9.731380228737626\n",
            "第 86/200 代, 当前最优适应度: 9.617054693949072\n",
            "第 87/200 代, 当前最优适应度: 9.617054693949072\n",
            "第 88/200 代, 当前最优适应度: 9.617054693949072\n",
            "第 89/200 代, 当前最优适应度: 9.617054693949072\n",
            "第 90/200 代, 当前最优适应度: 9.617054693949072\n",
            "第 91/200 代, 当前最优适应度: 9.617054693949072\n",
            "第 92/200 代, 当前最优适应度: 9.617054693949072\n",
            "第 93/200 代, 当前最优适应度: 9.617054693949072\n",
            "第 94/200 代, 当前最优适应度: 9.617054693949072\n",
            "第 95/200 代, 当前最优适应度: 9.510450926879532\n",
            "第 96/200 代, 当前最优适应度: 9.510450926879532\n",
            "第 97/200 代, 当前最优适应度: 9.510450926879532\n",
            "第 98/200 代, 当前最优适应度: 9.510450926879532\n",
            "第 99/200 代, 当前最优适应度: 9.510450926879532\n",
            "第 100/200 代, 当前最优适应度: 9.510450926879532\n",
            "第 101/200 代, 当前最优适应度: 9.510450926879532\n",
            "第 102/200 代, 当前最优适应度: 9.510450926879532\n",
            "第 103/200 代, 当前最优适应度: 9.510450926879532\n",
            "第 104/200 代, 当前最优适应度: 9.510450926879532\n",
            "优化在第 105 代提前停止，当前最优适应度: 9.510450926879532\n"
          ]
        }
      ]
    },
    {
      "cell_type": "code",
      "source": [
        "print(f\"最优位置: {best_position}\")\n",
        "print(f\"最优适应度: {best_score}\")"
      ],
      "metadata": {
        "colab": {
          "base_uri": "https://localhost:8080/"
        },
        "id": "VuMvqcsDJ6de",
        "outputId": "e953e5c1-913a-497a-e4fb-0a44762f838e"
      },
      "execution_count": 6,
      "outputs": [
        {
          "output_type": "stream",
          "name": "stdout",
          "text": [
            "最优位置: [-0.80439254  0.65165059  0.45211145  0.20222112  0.06898485  0.03948341\n",
            "  0.00356984  0.02325642  0.01945754 -0.03583846]\n",
            "最优适应度: 9.510450926879532\n"
          ]
        }
      ]
    },
    {
      "cell_type": "code",
      "source": [
        "ga.plot_optimization_history()"
      ],
      "metadata": {
        "colab": {
          "base_uri": "https://localhost:8080/",
          "height": 573
        },
        "id": "yROEO9AQJ6_2",
        "outputId": "d227be12-f183-426d-a833-0a93f7bbdd47"
      },
      "execution_count": 7,
      "outputs": [
        {
          "output_type": "display_data",
          "data": {
            "text/plain": [
              "<Figure size 1000x600 with 1 Axes>"
            ],
            "image/png": "[encoded data removed]"
          },
          "metadata": {}
        }
      ]
    }
  ]
}