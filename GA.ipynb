{
  "nbformat": 4,
  "nbformat_minor": 0,
  "metadata": {
    "colab": {
      "provenance": [],
      "authorship_tag": "ABX9TyN72lnX5fcC4OEghOmBVcCX",
      "include_colab_link": true
    },
    "kernelspec": {
      "name": "python3",
      "display_name": "Python 3"
    },
    "language_info": {
      "name": "python"
    }
  },
  "cells": [
    {
      "cell_type": "markdown",
      "metadata": {
        "id": "view-in-github",
        "colab_type": "text"
      },
      "source": [
        "<a href=\"https://colab.research.google.com/github/HakureiPOI/Modeling_Allowance/blob/main/GA.ipynb\" target=\"_parent\"><img src=\"https://colab.research.google.com/assets/colab-badge.svg\" alt=\"Open In Colab\"/></a>"
      ]
    },
    {
      "cell_type": "code",
      "source": [
        "import numpy as np\n",
        "import matplotlib.pyplot as plt\n",
        "import seaborn as sns"
      ],
      "metadata": {
        "id": "JJ4dTRKt28TJ"
      },
      "execution_count": 1,
      "outputs": []
    },
    {
      "cell_type": "code",
      "source": [
        "class GeneticAlgorithm():\n",
        "    def __init__(self, obj_function, dim, bounds, pop_size=100, max_iter=100, crossover_rate=0.8, mutation_rate=0.1, minimize=True):\n",
        "        \"\"\"\n",
        "        初始化遗传算法（GA）\n",
        "\n",
        "        参数：\n",
        "        - obj_function: 目标函数，需要最小化\n",
        "        - dim: 问题的维度\n",
        "        - bounds: 每个维度的边界，格式为 [(lower_bound1, upper_bound1), ...]\n",
        "        - pop_size: 种群大小\n",
        "        - max_iter: 最大迭代次数\n",
        "        - crossover_rate: 交叉概率\n",
        "        - mutation_rate: 变异概率\n",
        "        - minimize: 是否最小化目标函数（默认为True）\n",
        "        \"\"\"\n",
        "        self.obj_function = obj_function\n",
        "        self.dim = dim\n",
        "        self.bounds = bounds\n",
        "        self.pop_size = pop_size\n",
        "        self.max_iter = max_iter\n",
        "        self.crossover_rate = crossover_rate\n",
        "        self.mutation_rate = mutation_rate\n",
        "        self.minimize = minimize\n",
        "\n",
        "        # 初始化种群\n",
        "        self.population = np.random.uniform(0, 1, (pop_size, dim))\n",
        "        self.best_individual = None\n",
        "        self.best_score = float('inf') if minimize else float('-inf')\n",
        "        self.history = []\n",
        "\n",
        "    def _evaluate_fitness(self, population):\n",
        "        \"\"\"评估种群中每个个体的适应度\"\"\"\n",
        "        original_positions = population * (np.array([b[1] for b in self.bounds]) - np.array([b[0] for b in self.bounds])) + np.array([b[0] for b in self.bounds])\n",
        "        fitness = np.array([self.obj_function(pos) for pos in original_positions])\n",
        "        return fitness if self.minimize else -fitness\n",
        "\n",
        "    def _select_parents(self, fitness):\n",
        "        \"\"\"基于轮盘赌选择父代\"\"\"\n",
        "        probabilities = fitness / fitness.sum()\n",
        "        indices = np.random.choice(np.arange(self.pop_size), size=self.pop_size, p=probabilities)\n",
        "        return self.population[indices]\n",
        "\n",
        "    def _crossover(self, parents):\n",
        "        \"\"\"执行交叉操作\"\"\"\n",
        "        offspring = parents.copy()\n",
        "        for i in range(0, self.pop_size, 2):\n",
        "            if np.random.rand() < self.crossover_rate:\n",
        "                crossover_point = np.random.randint(1, self.dim)\n",
        "                offspring[i, crossover_point:], offspring[i + 1, crossover_point:] = offspring[i + 1, crossover_point:], offspring[i, crossover_point:]\n",
        "        return offspring\n",
        "\n",
        "    def _mutate(self, offspring):\n",
        "        \"\"\"执行变异操作\"\"\"\n",
        "        for i in range(self.pop_size):\n",
        "            for j in range(self.dim):\n",
        "                if np.random.rand() < self.mutation_rate:\n",
        "                    offspring[i, j] += np.random.uniform(-0.1, 0.1)\n",
        "                    offspring[i, j] = np.clip(offspring[i, j], 0, 1)\n",
        "        return offspring\n",
        "\n",
        "    def optimize(self):\n",
        "        \"\"\"运行优化过程\"\"\"\n",
        "        for iteration in range(self.max_iter):\n",
        "            fitness = self._evaluate_fitness(self.population)\n",
        "            best_idx = np.argmin(fitness) if self.minimize else np.argmax(fitness)\n",
        "            if (self.minimize and fitness[best_idx] < self.best_score) or (not self.minimize and fitness[best_idx] > self.best_score):\n",
        "                self.best_score = fitness[best_idx]\n",
        "                self.best_individual = self.population[best_idx].copy()\n",
        "\n",
        "            self.history.append(self.best_score)\n",
        "\n",
        "            # 选择、交叉、变异\n",
        "            parents = self._select_parents(1 / (1 + fitness))  # 最小化问题适配\n",
        "            offspring = self._crossover(parents)\n",
        "            self.population = self._mutate(offspring)\n",
        "\n",
        "            print(f\"第 {iteration + 1}/{self.max_iter} 代, 当前最优适应度: {self.best_score}\")\n",
        "\n",
        "        original_best = self.best_individual * (np.array([b[1] for b in self.bounds]) - np.array([b[0] for b in self.bounds])) + np.array([b[0] for b in self.bounds])\n",
        "        return original_best, self.best_score\n",
        "\n",
        "    def plot_optimization_history(self):\n",
        "        sns.set(style=\"whitegrid\")\n",
        "        plt.figure(figsize=(10, 6))\n",
        "        plt.plot(self.history, label=\"Best Fitness\", color=\"b\")\n",
        "        plt.xlabel(\"Iteration\")\n",
        "        plt.ylabel(\"Best Fitness\")\n",
        "        plt.title(\"Optimization History\")\n",
        "        plt.legend()\n",
        "        plt.show()"
      ],
      "metadata": {
        "id": "g210Iei9vmBj"
      },
      "execution_count": 2,
      "outputs": []
    },
    {
      "cell_type": "code",
      "source": [
        "def complex_function(x):\n",
        "    # x 是目标函数的变量列表\n",
        "    return sum((1 - x[:-1])**2 + 100 * (x[1:] - x[:-1]**2)**2)"
      ],
      "metadata": {
        "id": "Hr4Kdbka2_oO"
      },
      "execution_count": 3,
      "outputs": []
    },
    {
      "cell_type": "code",
      "source": [
        "dim = 10\n",
        "bounds = [(-5, 5)] * dim  # 每个维度不同的边界\n",
        "ga = GeneticAlgorithm(obj_function=complex_function, dim=dim, bounds=bounds)"
      ],
      "metadata": {
        "id": "sARMeHIJ3Ce3"
      },
      "execution_count": 4,
      "outputs": []
    },
    {
      "cell_type": "code",
      "source": [
        "best_position, best_score = ga.optimize()"
      ],
      "metadata": {
        "id": "DhcASSITQSJL",
        "outputId": "ec1ca0cb-a85e-4ff0-8922-c6e87b25de55",
        "colab": {
          "base_uri": "https://localhost:8080/"
        }
      },
      "execution_count": 5,
      "outputs": [
        {
          "output_type": "stream",
          "name": "stdout",
          "text": [
            "第 1/100 代, 当前最优适应度: 22959.07562115961\n",
            "第 2/100 代, 当前最优适应度: 22959.07562115961\n",
            "第 3/100 代, 当前最优适应度: 22959.07562115961\n",
            "第 4/100 代, 当前最优适应度: 11085.062265540713\n",
            "第 5/100 代, 当前最优适应度: 11085.062265540713\n",
            "第 6/100 代, 当前最优适应度: 6633.889303073807\n",
            "第 7/100 代, 当前最优适应度: 5971.069976192698\n",
            "第 8/100 代, 当前最优适应度: 5971.069976192698\n",
            "第 9/100 代, 当前最优适应度: 4845.532991899272\n",
            "第 10/100 代, 当前最优适应度: 3643.7314732419127\n",
            "第 11/100 代, 当前最优适应度: 3482.756901665716\n",
            "第 12/100 代, 当前最优适应度: 2767.719146943285\n",
            "第 13/100 代, 当前最优适应度: 1265.9888517091326\n",
            "第 14/100 代, 当前最优适应度: 1265.9888517091326\n",
            "第 15/100 代, 当前最优适应度: 693.5586783980585\n",
            "第 16/100 代, 当前最优适应度: 693.5586783980585\n",
            "第 17/100 代, 当前最优适应度: 680.320490780843\n",
            "第 18/100 代, 当前最优适应度: 511.4038095345998\n",
            "第 19/100 代, 当前最优适应度: 400.9759325245071\n",
            "第 20/100 代, 当前最优适应度: 400.9759325245071\n",
            "第 21/100 代, 当前最优适应度: 400.9759325245071\n",
            "第 22/100 代, 当前最优适应度: 55.199448892904734\n",
            "第 23/100 代, 当前最优适应度: 55.199448892904734\n",
            "第 24/100 代, 当前最优适应度: 55.199448892904734\n",
            "第 25/100 代, 当前最优适应度: 55.199448892904734\n",
            "第 26/100 代, 当前最优适应度: 45.09209717894686\n",
            "第 27/100 代, 当前最优适应度: 39.586812372257405\n",
            "第 28/100 代, 当前最优适应度: 39.586812372257405\n",
            "第 29/100 代, 当前最优适应度: 39.586812372257405\n",
            "第 30/100 代, 当前最优适应度: 39.586812372257405\n",
            "第 31/100 代, 当前最优适应度: 39.586812372257405\n",
            "第 32/100 代, 当前最优适应度: 39.586812372257405\n",
            "第 33/100 代, 当前最优适应度: 38.73206483964005\n",
            "第 34/100 代, 当前最优适应度: 30.12088857753854\n",
            "第 35/100 代, 当前最优适应度: 30.12088857753854\n",
            "第 36/100 代, 当前最优适应度: 30.034747387507196\n",
            "第 37/100 代, 当前最优适应度: 30.034747387507196\n",
            "第 38/100 代, 当前最优适应度: 29.281758280762933\n",
            "第 39/100 代, 当前最优适应度: 25.8899363667377\n",
            "第 40/100 代, 当前最优适应度: 25.8899363667377\n",
            "第 41/100 代, 当前最优适应度: 25.8899363667377\n",
            "第 42/100 代, 当前最优适应度: 25.8899363667377\n",
            "第 43/100 代, 当前最优适应度: 25.8899363667377\n",
            "第 44/100 代, 当前最优适应度: 25.8899363667377\n",
            "第 45/100 代, 当前最优适应度: 25.8899363667377\n",
            "第 46/100 代, 当前最优适应度: 25.8899363667377\n",
            "第 47/100 代, 当前最优适应度: 25.8899363667377\n",
            "第 48/100 代, 当前最优适应度: 25.8899363667377\n",
            "第 49/100 代, 当前最优适应度: 25.8899363667377\n",
            "第 50/100 代, 当前最优适应度: 25.8899363667377\n",
            "第 51/100 代, 当前最优适应度: 25.59222520473395\n",
            "第 52/100 代, 当前最优适应度: 25.59222520473395\n",
            "第 53/100 代, 当前最优适应度: 23.975659077931823\n",
            "第 54/100 代, 当前最优适应度: 22.574394873291112\n",
            "第 55/100 代, 当前最优适应度: 22.574394873291112\n",
            "第 56/100 代, 当前最优适应度: 22.574394873291112\n",
            "第 57/100 代, 当前最优适应度: 22.574394873291112\n",
            "第 58/100 代, 当前最优适应度: 22.574394873291112\n",
            "第 59/100 代, 当前最优适应度: 22.574394873291112\n",
            "第 60/100 代, 当前最优适应度: 22.574394873291112\n",
            "第 61/100 代, 当前最优适应度: 22.574394873291112\n",
            "第 62/100 代, 当前最优适应度: 17.530722708055464\n",
            "第 63/100 代, 当前最优适应度: 17.530722708055464\n",
            "第 64/100 代, 当前最优适应度: 17.530722708055464\n",
            "第 65/100 代, 当前最优适应度: 17.530722708055464\n",
            "第 66/100 代, 当前最优适应度: 17.0414092563876\n",
            "第 67/100 代, 当前最优适应度: 17.0414092563876\n",
            "第 68/100 代, 当前最优适应度: 15.955366635012076\n",
            "第 69/100 代, 当前最优适应度: 15.955366635012076\n",
            "第 70/100 代, 当前最优适应度: 15.955366635012076\n",
            "第 71/100 代, 当前最优适应度: 15.955366635012076\n",
            "第 72/100 代, 当前最优适应度: 15.955366635012076\n",
            "第 73/100 代, 当前最优适应度: 15.955366635012076\n",
            "第 74/100 代, 当前最优适应度: 15.955366635012076\n",
            "第 75/100 代, 当前最优适应度: 14.530378333916046\n",
            "第 76/100 代, 当前最优适应度: 13.880672645963973\n",
            "第 77/100 代, 当前最优适应度: 13.683663695875422\n",
            "第 78/100 代, 当前最优适应度: 13.683663695875422\n",
            "第 79/100 代, 当前最优适应度: 13.580065156266262\n",
            "第 80/100 代, 当前最优适应度: 13.47419272507634\n",
            "第 81/100 代, 当前最优适应度: 13.47419272507634\n",
            "第 82/100 代, 当前最优适应度: 13.47419272507634\n",
            "第 83/100 代, 当前最优适应度: 13.47419272507634\n",
            "第 84/100 代, 当前最优适应度: 13.47419272507634\n",
            "第 85/100 代, 当前最优适应度: 8.940186510709209\n",
            "第 86/100 代, 当前最优适应度: 8.836587971100048\n",
            "第 87/100 代, 当前最优适应度: 8.836587971100048\n",
            "第 88/100 代, 当前最优适应度: 8.836587971100048\n",
            "第 89/100 代, 当前最优适应度: 8.836587971100048\n",
            "第 90/100 代, 当前最优适应度: 8.836587971100048\n",
            "第 91/100 代, 当前最优适应度: 8.836587971100048\n",
            "第 92/100 代, 当前最优适应度: 8.836587971100048\n",
            "第 93/100 代, 当前最优适应度: 7.852508874126743\n",
            "第 94/100 代, 当前最优适应度: 7.795919422504224\n",
            "第 95/100 代, 当前最优适应度: 7.795919422504224\n",
            "第 96/100 代, 当前最优适应度: 7.795919422504224\n",
            "第 97/100 代, 当前最优适应度: 7.795919422504224\n",
            "第 98/100 代, 当前最优适应度: 7.795919422504224\n",
            "第 99/100 代, 当前最优适应度: 7.795919422504224\n",
            "第 100/100 代, 当前最优适应度: 7.795919422504224\n"
          ]
        }
      ]
    },
    {
      "cell_type": "code",
      "source": [
        "print(f\"最优位置: {best_position}\")\n",
        "print(f\"最优适应度: {best_score}\")"
      ],
      "metadata": {
        "colab": {
          "base_uri": "https://localhost:8080/"
        },
        "id": "VuMvqcsDJ6de",
        "outputId": "64ab9211-d93e-427b-a412-bd8a71d0acb7"
      },
      "execution_count": 6,
      "outputs": [
        {
          "output_type": "stream",
          "name": "stdout",
          "text": [
            "最优位置: [0.93315553 0.95847505 0.90185419 0.85934239 0.77520943 0.79797658\n",
            " 0.66666316 0.41370408 0.28758554 0.12027176]\n",
            "最优适应度: 7.795919422504224\n"
          ]
        }
      ]
    },
    {
      "cell_type": "code",
      "source": [
        "ga.plot_optimization_history()"
      ],
      "metadata": {
        "colab": {
          "base_uri": "https://localhost:8080/",
          "height": 573
        },
        "id": "yROEO9AQJ6_2",
        "outputId": "ee3a4bf6-e2dd-4c70-9cb9-74fed0f7b1bc"
      },
      "execution_count": 7,
      "outputs": [
        {
          "output_type": "display_data",
          "data": {
            "text/plain": [
              "<Figure size 1000x600 with 1 Axes>"
            ],
            "image/png": "[encoded data removed]"
          },
          "metadata": {}
        }
      ]
    }
  ]
}