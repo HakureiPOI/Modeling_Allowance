{
  "nbformat": 4,
  "nbformat_minor": 0,
  "metadata": {
    "colab": {
      "provenance": [],
      "authorship_tag": "ABX9TyOMT2os0UyEqxP/2ewouIy5",
      "include_colab_link": true
    },
    "kernelspec": {
      "name": "python3",
      "display_name": "Python 3"
    },
    "language_info": {
      "name": "python"
    }
  },
  "cells": [
    {
      "cell_type": "markdown",
      "metadata": {
        "id": "view-in-github",
        "colab_type": "text"
      },
      "source": [
        "<a href=\"https://colab.research.google.com/github/HakureiPOI/Modeling_Allowance/blob/main/GSA.ipynb\" target=\"_parent\"><img src=\"https://colab.research.google.com/assets/colab-badge.svg\" alt=\"Open In Colab\"/></a>"
      ]
    },
    {
      "cell_type": "code",
      "source": [
        "import numpy as np\n",
        "import matplotlib.pyplot as plt\n",
        "import seaborn as sns"
      ],
      "metadata": {
        "id": "JJ4dTRKt28TJ"
      },
      "execution_count": 1,
      "outputs": []
    },
    {
      "cell_type": "code",
      "source": [
        "class GravitationalSearchAlgorithm:\n",
        "    def __init__(self, obj_function, dim, bounds, num_agents=128, max_iter=100, g0=0.5, alpha=2, minimize=True):\n",
        "        \"\"\"\n",
        "        初始化引力搜索算法（GSA）\n",
        "\n",
        "        参数：\n",
        "        - obj_function: 目标函数，需要最小化\n",
        "        - dim: 问题的维度。\n",
        "        - bounds: 每个维度的边界，格式为 [(lower_bound1, upper_bound1), ...]。\n",
        "        - num_agents: 粒子（解）的数量\n",
        "        - max_iter: 最大迭代次数\n",
        "        - g0: 初始引力常数\n",
        "        - alpha: 引力常数的动态调整参数，控制其衰减速度\n",
        "        - minimize: 是否最小化目标函数（默认为True）\n",
        "        \"\"\"\n",
        "        self.obj_function = obj_function\n",
        "        self.dim = dim\n",
        "        self.bounds = bounds\n",
        "        self.num_agents = num_agents\n",
        "        self.max_iter = max_iter\n",
        "        self.g0 = g0\n",
        "        self.alpha = alpha\n",
        "        self.minimize = minimize\n",
        "\n",
        "        # 设置随机数种子\n",
        "        np.random.seed(42)\n",
        "\n",
        "        # 初始化粒子的位置和速度\n",
        "        self.positions = np.random.uniform(0, 1, (num_agents, dim))\n",
        "        for i in range(dim):\n",
        "            lower, upper = bounds[i]\n",
        "            self.positions[:, i] = lower + self.positions[:, i] * (upper - lower)\n",
        "        self.velocities = np.zeros((num_agents, dim))\n",
        "        self.best_position = None\n",
        "        self.best_score = float('inf')\n",
        "        self.history = []\n",
        "\n",
        "    def _evaluate_fitness(self):\n",
        "        \"\"\"评估每个粒子的适应度（目标函数值）\"\"\"\n",
        "        fitness = np.array([self.obj_function(pos) for pos in self.positions])\n",
        "        return fitness if self.minimize else -fitness\n",
        "\n",
        "    def _update_gravitational_constant(self, iteration):\n",
        "        \"\"\"动态调整引力常数，使得最后能缓慢收敛\"\"\"\n",
        "        return self.g0 * (1 - iteration / self.max_iter) ** self.alpha\n",
        "\n",
        "    def _calculate_masses(self, fitness):\n",
        "        \"\"\"根据适应度计算每个粒子的质量，适配最小化问题\"\"\"\n",
        "        worst = max(fitness)\n",
        "        best = min(fitness)\n",
        "        if best == worst:\n",
        "            masses = np.ones_like(fitness)\n",
        "        else:\n",
        "            # 使用反向差值\n",
        "            masses = (worst - fitness) / (worst - best + 1e-10)\n",
        "        return masses / masses.sum()\n",
        "\n",
        "    def _calculate_forces(self, masses, g):\n",
        "        \"\"\"矢量化计算作用在每个粒子上的引力\"\"\"\n",
        "        forces = np.zeros((self.num_agents, self.dim))\n",
        "        for i in range(self.num_agents):\n",
        "            distances = np.linalg.norm(self.positions - self.positions[i], axis=1) + 1e-10\n",
        "            directions = self.positions - self.positions[i]\n",
        "            forces[i] = np.sum(\n",
        "                g * masses[i] * masses[:, np.newaxis] / distances[:, np.newaxis] * directions,\n",
        "                axis=0\n",
        "            )\n",
        "        return forces\n",
        "\n",
        "    def _update_positions_and_velocities(self, forces, masses):\n",
        "        \"\"\"更新粒子的位置和速度\"\"\"\n",
        "        accelerations = forces / (masses[:, np.newaxis] + 1e-10)\n",
        "        self.velocities = np.random.rand(self.num_agents, self.dim) * self.velocities + accelerations\n",
        "        self.positions += self.velocities\n",
        "\n",
        "        # 应用边界约束\n",
        "        for i in range(self.dim):\n",
        "            lower, upper = self.bounds[i]\n",
        "            self.positions[:, i] = np.clip(self.positions[:, i], lower, upper)\n",
        "\n",
        "    def optimize(self):\n",
        "        \"\"\"运行优化过程\"\"\"\n",
        "        for iteration in range(self.max_iter):\n",
        "            # 第一步：评估适应度\n",
        "            fitness = self._evaluate_fitness()\n",
        "\n",
        "            # 更新全局最优解\n",
        "            best_fitness_idx = np.argmin(fitness)\n",
        "            if fitness[best_fitness_idx] < self.best_score:\n",
        "                self.best_score = fitness[best_fitness_idx]\n",
        "                self.best_position = self.positions[best_fitness_idx].copy()\n",
        "\n",
        "            self.history.append(self.best_score)\n",
        "\n",
        "            # 检测提前收敛条件\n",
        "            if iteration > 0 and abs(self.history[-1] - self.history[-2]) < 1e-5:\n",
        "                print(f\"优化在第 {iteration + 1} 代提前收敛，当前最优适应度: {self.best_score}\")\n",
        "                break\n",
        "\n",
        "            # 第二步：更新引力常数\n",
        "            g = self._update_gravitational_constant(iteration)\n",
        "\n",
        "            # 第三步：计算质量\n",
        "            masses = self._calculate_masses(fitness)\n",
        "\n",
        "            # 第四步：计算引力\n",
        "            forces = self._calculate_forces(masses, g)\n",
        "\n",
        "            # 第五步：更新位置和速度\n",
        "            self._update_positions_and_velocities(forces, masses)\n",
        "\n",
        "            print(f\"第 {iteration + 1}/{self.max_iter} 代, 当前最优适应度: {self.best_score}\")\n",
        "\n",
        "        return self.best_position, self.best_score\n",
        "\n",
        "    def plot_optimization_history(self):\n",
        "        sns.set(style=\"whitegrid\")\n",
        "        plt.figure(figsize=(10, 6))\n",
        "        plt.plot(self.history, label=\"Best Fitness\", color=\"b\")\n",
        "        plt.xlabel(\"Iteration\")\n",
        "        plt.ylabel(\"Best Fitness\")\n",
        "        plt.title(\"Optimization History\")\n",
        "        plt.legend()\n",
        "        plt.show()"
      ],
      "metadata": {
        "id": "g210Iei9vmBj"
      },
      "execution_count": 2,
      "outputs": []
    },
    {
      "cell_type": "code",
      "source": [
        "def complex_function(x):\n",
        "    # x 是目标函数的变量列表\n",
        "    x1, x2, x3 = x\n",
        "    return x1**2 + x2**2 + x3**2"
      ],
      "metadata": {
        "id": "Hr4Kdbka2_oO"
      },
      "execution_count": 3,
      "outputs": []
    },
    {
      "cell_type": "code",
      "source": [
        "dim = 3\n",
        "bounds = [(-10, 10), (-5, 5), (-10, 20)]  # 每个维度不同的边界\n",
        "gsa = GravitationalSearchAlgorithm(obj_function=complex_function, dim=dim, bounds=bounds)\n",
        "best_position, best_score = gsa.optimize()"
      ],
      "metadata": {
        "colab": {
          "base_uri": "https://localhost:8080/"
        },
        "id": "sARMeHIJ3Ce3",
        "outputId": "83922e02-45d2-4b51-f5b5-7370d66d54af"
      },
      "execution_count": 4,
      "outputs": [
        {
          "output_type": "stream",
          "name": "stdout",
          "text": [
            "第 1/100 代, 当前最优适应度: 11.862301287620099\n",
            "第 2/100 代, 当前最优适应度: 10.751031654377101\n",
            "第 3/100 代, 当前最优适应度: 9.615535321144138\n",
            "第 4/100 代, 当前最优适应度: 8.558510134640281\n",
            "第 5/100 代, 当前最优适应度: 6.7800377724438174\n",
            "第 6/100 代, 当前最优适应度: 5.195506122272758\n",
            "第 7/100 代, 当前最优适应度: 3.8958245361347332\n",
            "第 8/100 代, 当前最优适应度: 2.9042275630844343\n",
            "第 9/100 代, 当前最优适应度: 1.6312444121273797\n",
            "第 10/100 代, 当前最优适应度: 0.7107068282014009\n",
            "第 11/100 代, 当前最优适应度: 0.18275692629963686\n",
            "第 12/100 代, 当前最优适应度: 0.0012770787055301695\n",
            "优化在第 13 代提前收敛，当前最优适应度: 0.0012770787055301695\n"
          ]
        }
      ]
    },
    {
      "cell_type": "code",
      "source": [
        "print(f\"最优位置: {best_position}\")\n",
        "print(f\"最优适应度: {best_score}\")"
      ],
      "metadata": {
        "id": "VuMvqcsDJ6de",
        "outputId": "7ebda7a3-7a2d-43fa-e2ce-92a8ce0688ea",
        "colab": {
          "base_uri": "https://localhost:8080/"
        }
      },
      "execution_count": 5,
      "outputs": [
        {
          "output_type": "stream",
          "name": "stdout",
          "text": [
            "最优位置: [-0.00934549  0.01137949 -0.03256144]\n",
            "最优适应度: 0.0012770787055301695\n"
          ]
        }
      ]
    },
    {
      "cell_type": "code",
      "source": [
        "gsa.plot_optimization_history()"
      ],
      "metadata": {
        "id": "yROEO9AQJ6_2",
        "outputId": "05a08e2c-b147-4c0b-8618-b7b5cb17d503",
        "colab": {
          "base_uri": "https://localhost:8080/",
          "height": 573
        }
      },
      "execution_count": 6,
      "outputs": [
        {
          "output_type": "display_data",
          "data": {
            "text/plain": [
              "<Figure size 1000x600 with 1 Axes>"
            ],
            "image/png": "[encoded data removed]"
          },
          "metadata": {}
        }
      ]
    }
  ]
}