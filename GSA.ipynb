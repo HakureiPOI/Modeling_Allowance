{
  "nbformat": 4,
  "nbformat_minor": 0,
  "metadata": {
    "colab": {
      "provenance": [],
      "authorship_tag": "ABX9TyP0VmZUPDYO3ZUiURiiVuDK",
      "include_colab_link": true
    },
    "kernelspec": {
      "name": "python3",
      "display_name": "Python 3"
    },
    "language_info": {
      "name": "python"
    }
  },
  "cells": [
    {
      "cell_type": "markdown",
      "metadata": {
        "id": "view-in-github",
        "colab_type": "text"
      },
      "source": [
        "<a href=\"https://colab.research.google.com/github/HakureiPOI/Modeling_Allowance/blob/main/GSA.ipynb\" target=\"_parent\"><img src=\"https://colab.research.google.com/assets/colab-badge.svg\" alt=\"Open In Colab\"/></a>"
      ]
    },
    {
      "cell_type": "code",
      "source": [
        "import numpy as np\n",
        "import matplotlib.pyplot as plt\n",
        "import seaborn as sns"
      ],
      "metadata": {
        "id": "JJ4dTRKt28TJ"
      },
      "execution_count": 1,
      "outputs": []
    },
    {
      "cell_type": "code",
      "source": [
        "class GravitationalSearchAlgorithm:\n",
        "    def __init__(self, obj_function, dim, bounds, num_agents=256, max_iter=100, g0=0.8, alpha=2, minimize=True):\n",
        "        \"\"\"\n",
        "        初始化引力搜索算法（GSA）\n",
        "\n",
        "        参数：\n",
        "        - obj_function: 目标函数，需要最小化\n",
        "        - dim: 问题的维度。\n",
        "        - bounds: 每个维度的边界，格式为 [(lower_bound1, upper_bound1), ...]。\n",
        "        - num_agents: 粒子（解）的数量\n",
        "        - max_iter: 最大迭代次数\n",
        "        - g0: 初始引力常数\n",
        "        - alpha: 引力常数的动态调整参数，控制其衰减速度\n",
        "        - minimize: 是否最小化目标函数（默认为True）\n",
        "        \"\"\"\n",
        "        self.obj_function = obj_function\n",
        "        self.dim = dim\n",
        "        self.bounds = bounds\n",
        "        self.num_agents = num_agents\n",
        "        self.max_iter = max_iter\n",
        "        self.g0 = g0\n",
        "        self.alpha = alpha\n",
        "        self.minimize = minimize\n",
        "\n",
        "        # 设置随机数种子\n",
        "        np.random.seed(42)\n",
        "\n",
        "        # 初始化粒子的位置和速度\n",
        "        self.positions = np.random.uniform(0, 1, (num_agents, dim))\n",
        "        for i in range(dim):\n",
        "            lower, upper = bounds[i]\n",
        "            self.positions[:, i] = lower + self.positions[:, i] * (upper - lower)\n",
        "        self.velocities = np.zeros((num_agents, dim))\n",
        "        self.best_position = None\n",
        "        self.best_score = float('inf')\n",
        "        self.history = []\n",
        "\n",
        "    def _evaluate_fitness(self):\n",
        "        \"\"\"评估每个粒子的适应度（目标函数值）\"\"\"\n",
        "        fitness = np.array([self.obj_function(pos) for pos in self.positions])\n",
        "        return fitness if self.minimize else -fitness\n",
        "\n",
        "    def _update_gravitational_constant(self, iteration):\n",
        "        \"\"\"动态调整引力常数，使得最后能缓慢收敛\"\"\"\n",
        "        return self.g0 * (1 - iteration / self.max_iter) ** self.alpha\n",
        "\n",
        "    def _calculate_masses(self, fitness):\n",
        "        \"\"\"根据适应度计算每个粒子的质量，适配最小化问题\"\"\"\n",
        "        worst = max(fitness)\n",
        "        best = min(fitness)\n",
        "        if best == worst:\n",
        "            masses = np.ones_like(fitness)\n",
        "        else:\n",
        "            # 使用反向差值\n",
        "            masses = (worst - fitness) / (worst - best + 1e-10)\n",
        "        return masses / masses.sum()\n",
        "\n",
        "    def _calculate_forces(self, masses, g):\n",
        "        \"\"\"矢量化计算作用在每个粒子上的引力\"\"\"\n",
        "        forces = np.zeros((self.num_agents, self.dim))\n",
        "        for i in range(self.num_agents):\n",
        "            distances = np.linalg.norm(self.positions - self.positions[i], axis=1) + 1e-10\n",
        "            directions = self.positions - self.positions[i]\n",
        "            forces[i] = np.sum(\n",
        "                g * masses[i] * masses[:, np.newaxis] / distances[:, np.newaxis] * directions,\n",
        "                axis=0\n",
        "            )\n",
        "        return forces\n",
        "\n",
        "    def _update_positions_and_velocities(self, forces, masses):\n",
        "        \"\"\"更新粒子的位置和速度\"\"\"\n",
        "        accelerations = forces / (masses[:, np.newaxis] + 1e-10)\n",
        "        self.velocities = np.random.rand(self.num_agents, self.dim) * self.velocities + accelerations\n",
        "        self.positions += self.velocities\n",
        "\n",
        "        # 应用边界约束\n",
        "        for i in range(self.dim):\n",
        "            lower, upper = self.bounds[i]\n",
        "            self.positions[:, i] = np.clip(self.positions[:, i], lower, upper)\n",
        "\n",
        "    def optimize(self):\n",
        "        \"\"\"运行优化过程\"\"\"\n",
        "        for iteration in range(self.max_iter):\n",
        "            # 第一步：评估适应度\n",
        "            fitness = self._evaluate_fitness()\n",
        "\n",
        "            # 更新全局最优解\n",
        "            best_fitness_idx = np.argmin(fitness)\n",
        "            if fitness[best_fitness_idx] < self.best_score:\n",
        "                self.best_score = fitness[best_fitness_idx]\n",
        "                self.best_position = self.positions[best_fitness_idx].copy()\n",
        "\n",
        "            self.history.append(self.best_score)\n",
        "\n",
        "            # 检测提前收敛条件\n",
        "            if iteration > 0 and abs(self.history[-1] - self.history[-2]) < 1e-10:\n",
        "                print(f\"优化在第 {iteration + 1} 代提前收敛，当前最优适应度: {self.best_score}\")\n",
        "                break\n",
        "\n",
        "            # 第二步：更新引力常数\n",
        "            g = self._update_gravitational_constant(iteration)\n",
        "\n",
        "            # 第三步：计算质量\n",
        "            masses = self._calculate_masses(fitness)\n",
        "\n",
        "            # 第四步：计算引力\n",
        "            forces = self._calculate_forces(masses, g)\n",
        "\n",
        "            # 第五步：更新位置和速度\n",
        "            self._update_positions_and_velocities(forces, masses)\n",
        "\n",
        "            print(f\"第 {iteration + 1}/{self.max_iter} 代, 当前最优适应度: {self.best_score}\")\n",
        "\n",
        "        return self.best_position, self.best_score\n",
        "\n",
        "    def plot_optimization_history(self):\n",
        "        sns.set(style=\"whitegrid\")\n",
        "        plt.figure(figsize=(10, 6))\n",
        "        plt.plot(self.history, label=\"Best Fitness\", color=\"b\")\n",
        "        plt.xlabel(\"Iteration\")\n",
        "        plt.ylabel(\"Best Fitness\")\n",
        "        plt.title(\"Optimization History\")\n",
        "        plt.legend()\n",
        "        plt.show()"
      ],
      "metadata": {
        "id": "g210Iei9vmBj"
      },
      "execution_count": 2,
      "outputs": []
    },
    {
      "cell_type": "code",
      "source": [
        "def complex_function(x):\n",
        "    # x 是目标函数的变量列表\n",
        "    return sum((1 - x[:-1])**2 + 100 * (x[1:] - x[:-1]**2)**2)"
      ],
      "metadata": {
        "id": "Hr4Kdbka2_oO"
      },
      "execution_count": 3,
      "outputs": []
    },
    {
      "cell_type": "code",
      "source": [
        "dim = 100\n",
        "bounds = [(-5, 5)] * dim  # 每个维度不同的边界\n",
        "gsa = GravitationalSearchAlgorithm(obj_function=complex_function, dim=dim, bounds=bounds)\n",
        "best_position, best_score = gsa.optimize()"
      ],
      "metadata": {
        "colab": {
          "base_uri": "https://localhost:8080/"
        },
        "id": "sARMeHIJ3Ce3",
        "outputId": "e1c4b252-0623-4f8f-b403-fa0c4eb7df2c"
      },
      "execution_count": 4,
      "outputs": [
        {
          "output_type": "stream",
          "name": "stdout",
          "text": [
            "第 1/100 代, 当前最优适应度: 836178.1904805666\n",
            "第 2/100 代, 当前最优适应度: 771881.7623914114\n",
            "第 3/100 代, 当前最优适应度: 684979.7145502747\n",
            "第 4/100 代, 当前最优适应度: 597858.8047229395\n",
            "第 5/100 代, 当前最优适应度: 516778.27014643775\n",
            "第 6/100 代, 当前最优适应度: 434147.3021783245\n",
            "第 7/100 代, 当前最优适应度: 363415.04914086673\n",
            "第 8/100 代, 当前最优适应度: 300633.5440249789\n",
            "第 9/100 代, 当前最优适应度: 247817.3526847561\n",
            "第 10/100 代, 当前最优适应度: 201253.99516381836\n",
            "第 11/100 代, 当前最优适应度: 166373.2832556872\n",
            "第 12/100 代, 当前最优适应度: 136620.98575933347\n",
            "第 13/100 代, 当前最优适应度: 111563.4645500437\n",
            "第 14/100 代, 当前最优适应度: 91901.12348809994\n",
            "第 15/100 代, 当前最优适应度: 75348.12681621964\n",
            "第 16/100 代, 当前最优适应度: 62025.58134055436\n",
            "第 17/100 代, 当前最优适应度: 51415.19655241362\n",
            "第 18/100 代, 当前最优适应度: 42467.44029330659\n",
            "第 19/100 代, 当前最优适应度: 34316.6783782104\n",
            "第 20/100 代, 当前最优适应度: 27252.476752505794\n",
            "第 21/100 代, 当前最优适应度: 21797.843742708672\n",
            "第 22/100 代, 当前最优适应度: 17297.321663391296\n",
            "第 23/100 代, 当前最优适应度: 13620.673171804992\n",
            "第 24/100 代, 当前最优适应度: 10614.537139542543\n",
            "第 25/100 代, 当前最优适应度: 8110.800124350873\n",
            "第 26/100 代, 当前最优适应度: 6433.45413958068\n",
            "第 27/100 代, 当前最优适应度: 5047.693080713376\n",
            "第 28/100 代, 当前最优适应度: 3956.099495629392\n",
            "第 29/100 代, 当前最优适应度: 3131.936676995237\n",
            "第 30/100 代, 当前最优适应度: 2429.400363419938\n",
            "第 31/100 代, 当前最优适应度: 1873.0279871638616\n",
            "第 32/100 代, 当前最优适应度: 1438.7858661446996\n",
            "第 33/100 代, 当前最优适应度: 1109.5716248157296\n",
            "第 34/100 代, 当前最优适应度: 849.4036072233844\n",
            "第 35/100 代, 当前最优适应度: 692.3058787410116\n",
            "第 36/100 代, 当前最优适应度: 547.3448798696954\n",
            "第 37/100 代, 当前最优适应度: 470.9014631566843\n",
            "第 38/100 代, 当前最优适应度: 441.22878375038056\n",
            "第 39/100 代, 当前最优适应度: 420.6017109052819\n",
            "第 40/100 代, 当前最优适应度: 420.4557921619819\n",
            "第 41/100 代, 当前最优适应度: 412.11357720424195\n",
            "优化在第 42 代提前收敛，当前最优适应度: 412.11357720424195\n"
          ]
        }
      ]
    },
    {
      "cell_type": "code",
      "source": [
        "print(f\"最优位置: {best_position}\")\n",
        "print(f\"最优适应度: {best_score}\")"
      ],
      "metadata": {
        "colab": {
          "base_uri": "https://localhost:8080/"
        },
        "id": "VuMvqcsDJ6de",
        "outputId": "0a67cd73-1a82-4178-fa76-412ec4b45003"
      },
      "execution_count": 5,
      "outputs": [
        {
          "output_type": "stream",
          "name": "stdout",
          "text": [
            "最优位置: [-0.17867138 -0.2172415  -0.03337283  0.08201512  0.10283507  0.03118442\n",
            "  0.39740843  0.15672807 -0.03940298 -0.21039698 -0.20038089  0.06312175\n",
            "  0.08912181 -0.33069063 -0.08599868 -0.08887375 -0.34606862  0.31088287\n",
            "  0.14188375 -0.01979767  0.13434377  0.00102355  0.18547366  0.33492305\n",
            " -0.15805657  0.02667346 -0.24171419 -0.07138832  0.08293572 -0.05189994\n",
            "  0.03917129 -0.04813614 -0.0769475   0.09749632 -0.17278378  0.0330873\n",
            "  0.05620072  0.08982559  0.06522562  0.02205527  0.34267545 -0.13576139\n",
            "  0.09544323  0.4036779  -0.08883588  0.14535749  0.02354019 -0.09173393\n",
            "  0.35337246 -0.10774912 -0.00206434 -0.05410228 -0.03748039  0.27744966\n",
            "  0.16392673  0.15211598 -0.14147583 -0.00741918 -0.10526124  0.19889963\n",
            " -0.02507087 -0.0954137   0.25121721 -0.11247663  0.25812597 -0.06905781\n",
            " -0.04608051 -0.15673038  0.14400166 -0.23521978 -0.25261578  0.30521134\n",
            " -0.34356184  0.02993614  0.3820931   0.12990094 -0.21321932  0.06818423\n",
            "  0.09061153 -0.25059113 -0.07974932  0.09577892  0.04386031  0.00060756\n",
            " -0.13448461  0.31417757  0.02703451 -0.09635002  0.26554995  0.11065049\n",
            "  0.04779261 -0.3501759   0.09531123  0.10014072 -0.03972026 -0.00587744\n",
            "  0.1199219  -0.07424585  0.00270934  0.076646  ]\n",
            "最优适应度: 412.11357720424195\n"
          ]
        }
      ]
    },
    {
      "cell_type": "code",
      "source": [
        "gsa.plot_optimization_history()"
      ],
      "metadata": {
        "colab": {
          "base_uri": "https://localhost:8080/",
          "height": 573
        },
        "id": "yROEO9AQJ6_2",
        "outputId": "8ef6a64a-f1e9-4c16-d4b8-abefc82888ce"
      },
      "execution_count": 6,
      "outputs": [
        {
          "output_type": "display_data",
          "data": {
            "text/plain": [
              "<Figure size 1000x600 with 1 Axes>"
            ],
            "image/png": "[encoded data removed]"
          },
          "metadata": {}
        }
      ]
    }
  ]
}